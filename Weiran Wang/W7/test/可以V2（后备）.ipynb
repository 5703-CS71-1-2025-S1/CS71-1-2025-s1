{
 "cells": [
  {
   "cell_type": "code",
   "execution_count": 13,
   "id": "5dc0aa8c-41c6-4fa4-81c0-49f8e0a0000b",
   "metadata": {},
   "outputs": [],
   "source": [
    "# Section 1: Imports and Setup\n",
    "import numpy as np\n",
    "import matplotlib.pyplot as plt\n",
    "import warnings\n",
    "import time\n",
    "import os\n",
    "import json\n",
    "import re\n",
    "from sklearn.neural_network import MLPClassifier\n",
    "from sklearn.model_selection import train_test_split\n",
    "from sklearn.preprocessing import OrdinalEncoder, LabelEncoder\n",
    "from sklearn.metrics import accuracy_score\n",
    "from sklearn.exceptions import ConvergenceWarning\n",
    "from pyswarms.single import GlobalBestPSO\n",
    "from ucimlrepo import fetch_ucirepo\n",
    "from dotenv import load_dotenv\n",
    "from openai import OpenAI\n",
    "\n",
    "# Silence convergence warnings\n",
    "warnings.filterwarnings(\"ignore\", category=ConvergenceWarning)\n",
    "\n",
    "# Load API Key\n",
    "load_dotenv(\"OPENAI_API_KEY.env\")\n",
    "client = OpenAI(api_key=os.getenv(\"OPENAI_API_KEY\"))\n",
    "\n",
    "# Load and preprocess dataset\n",
    "dataset = fetch_ucirepo(id=69)  # Gene splicing dataset\n",
    "X_raw = dataset.data.features\n",
    "y_raw = dataset.data.targets\n",
    "X = OrdinalEncoder().fit_transform(X_raw)\n",
    "y = LabelEncoder().fit_transform(y_raw.values.ravel())\n",
    "X_train, X_test, y_train, y_test = train_test_split(X, y, test_size=0.2, random_state=42)\n",
    "\n",
    "# Define search space\n",
    "activation_options = ['identity', 'logistic', 'tanh', 'relu']\n",
    "solver_options = ['lbfgs', 'sgd', 'adam']\n",
    "lb = [5, 1e-4, 1e-6, 0, 0]\n",
    "ub = [200, 1.0, 1.0, 3, 2]\n",
    "bounds = (np.array(lb), np.array(ub))\n",
    "\n",
    "# Section 2: GPT helper\n",
    "\n",
    "def extract_json_list(text):\n",
    "    match = re.search(r'\\[.*\\]', text, re.DOTALL)\n",
    "    if match:\n",
    "        return json.loads(match.group())\n",
    "    raise ValueError(\"No valid JSON list found\")\n",
    "\n",
    "def query_gpt_for_particles(history, num_particles=3):\n",
    "    prompt = f\"\"\"\n",
    "You are optimizing MLP hyperparameters.\n",
    "Here are past top configurations:\n",
    "{history}\n",
    "\n",
    "Now return ONLY a JSON list with {num_particles} new configurations like:\n",
    "[{{\"hidden\": int, \"lr\": float, \"alpha\": float, \"activation\": int, \"solver\": int}}]\n",
    "\n",
    "Only output the list. Do not add any explanation.\n",
    "\"\"\"\n",
    "    response = client.chat.completions.create(\n",
    "        model=\"gpt-4o\",\n",
    "        messages=[{\"role\": \"user\", \"content\": prompt}],\n",
    "        temperature=0.7\n",
    "    )\n",
    "    print(\"=== GPT Prompt ===\", prompt)\n",
    "    print(\"=== GPT Response ===\", response.choices[0].message.content)\n",
    "    return extract_json_list(response.choices[0].message.content)\n",
    "# Section 3: Baseline PSO objective\n",
    "accuracy_history = []\n",
    "best_so_far_history = []\n",
    "\n",
    "def objective_mlp(swarm):\n",
    "    global accuracy_history, best_so_far_history\n",
    "    results = []\n",
    "    for params in swarm:\n",
    "        try:\n",
    "            hidden_layer_sizes = (int(round(params[0])),)\n",
    "            learning_rate_init = float(params[1])\n",
    "            alpha = float(params[2])\n",
    "            activation = activation_options[int(round(params[3]))]\n",
    "            solver = solver_options[int(round(params[4]))]\n",
    "            model = MLPClassifier(\n",
    "                hidden_layer_sizes=hidden_layer_sizes,\n",
    "                learning_rate_init=learning_rate_init,\n",
    "                alpha=alpha,\n",
    "                activation=activation,\n",
    "                solver=solver,\n",
    "                max_iter=500,\n",
    "                random_state=42\n",
    "            )\n",
    "            model.fit(X_train, y_train)\n",
    "            acc = accuracy_score(y_test, model.predict(X_test))\n",
    "            results.append(-acc)\n",
    "        except:\n",
    "            results.append(1.0)\n",
    "\n",
    "    best_acc = -min(results)\n",
    "    accuracy_history.append(best_acc)\n",
    "    best_so_far_history.append(max(best_acc, best_so_far_history[-1]) if best_so_far_history else best_acc)\n",
    "    return np.array(results)\n",
    "\n",
    "# Section 4: LLM-enhanced PSO objective\n",
    "llm_accuracy_history = []\n",
    "llm_best_so_far_history = []\n",
    "\n",
    "def objective_mlp_with_llm(swarm):\n",
    "    global llm_accuracy_history, llm_best_so_far_history\n",
    "    results = []\n",
    "    for params in swarm:\n",
    "        try:\n",
    "            hidden_layer_sizes = (int(round(params[0])),)\n",
    "            learning_rate_init = float(params[1])\n",
    "            alpha = float(params[2])\n",
    "            activation = activation_options[int(round(params[3]))]\n",
    "            solver = solver_options[int(round(params[4]))]\n",
    "            model = MLPClassifier(\n",
    "                hidden_layer_sizes=hidden_layer_sizes,\n",
    "                learning_rate_init=learning_rate_init,\n",
    "                alpha=alpha,\n",
    "                activation=activation,\n",
    "                solver=solver,\n",
    "                max_iter=500,\n",
    "                random_state=42\n",
    "            )\n",
    "            model.fit(X_train, y_train)\n",
    "            acc = accuracy_score(y_test, model.predict(X_test))\n",
    "            results.append(-acc)\n",
    "        except:\n",
    "            results.append(1.0)\n",
    "\n",
    "    if len(llm_accuracy_history) % 5 == 0 and len(llm_accuracy_history) > 0:\n",
    "        best_indices = np.argsort(results)[:3]\n",
    "        history = [f\"{list(swarm[i])} => {-results[i]:.4f}\" for i in best_indices]\n",
    "        new_particles = query_gpt_for_particles(history, num_particles=3)\n",
    "        for i, new_p in zip(best_indices, new_particles):\n",
    "            swarm[i] = [\n",
    "                new_p['hidden'], new_p['lr'], new_p['alpha'], new_p['activation'], new_p['solver']\n",
    "            ]\n",
    "\n",
    "    best_acc = -min(results)\n",
    "    llm_accuracy_history.append(best_acc)\n",
    "    llm_best_so_far_history.append(max(best_acc, llm_best_so_far_history[-1]) if llm_best_so_far_history else best_acc)\n",
    "    return np.array(results)\n"
   ]
  },
  {
   "cell_type": "code",
   "execution_count": 15,
   "id": "9cb3df5c-7d26-457a-8d86-66a1388181ac",
   "metadata": {},
   "outputs": [],
   "source": [
    "# Section 3: Baseline PSO objective\n",
    "accuracy_history = []\n",
    "best_so_far_history = []\n",
    "\n",
    "def objective_mlp(swarm):\n",
    "    global accuracy_history, best_so_far_history\n",
    "    results = []\n",
    "    for params in swarm:\n",
    "        try:\n",
    "            hidden_layer_sizes = (int(round(params[0])),)\n",
    "            learning_rate_init = float(params[1])\n",
    "            alpha = float(params[2])\n",
    "            activation = activation_options[int(round(params[3]))]\n",
    "            solver = solver_options[int(round(params[4]))]\n",
    "            model = MLPClassifier(\n",
    "                hidden_layer_sizes=hidden_layer_sizes,\n",
    "                learning_rate_init=learning_rate_init,\n",
    "                alpha=alpha,\n",
    "                activation=activation,\n",
    "                solver=solver,\n",
    "                max_iter=500,\n",
    "                random_state=42\n",
    "            )\n",
    "            model.fit(X_train, y_train)\n",
    "            acc = accuracy_score(y_test, model.predict(X_test))\n",
    "            results.append(-acc)\n",
    "        except:\n",
    "            results.append(1.0)\n",
    "\n",
    "    best_acc = -min(results)\n",
    "    accuracy_history.append(best_acc)\n",
    "    best_so_far_history.append(max(best_acc, best_so_far_history[-1]) if best_so_far_history else best_acc)\n",
    "    return np.array(results)\n",
    "\n",
    "# Section 4: LLM-enhanced PSO objective\n",
    "llm_accuracy_history = []\n",
    "llm_best_so_far_history = []\n",
    "\n",
    "def objective_mlp_with_llm(swarm):\n",
    "    global llm_accuracy_history, llm_best_so_far_history\n",
    "    results = []\n",
    "    for params in swarm:\n",
    "        try:\n",
    "            hidden_layer_sizes = (int(round(params[0])),)\n",
    "            learning_rate_init = float(params[1])\n",
    "            alpha = float(params[2])\n",
    "            activation = activation_options[int(round(params[3]))]\n",
    "            solver = solver_options[int(round(params[4]))]\n",
    "            model = MLPClassifier(\n",
    "                hidden_layer_sizes=hidden_layer_sizes,\n",
    "                learning_rate_init=learning_rate_init,\n",
    "                alpha=alpha,\n",
    "                activation=activation,\n",
    "                solver=solver,\n",
    "                max_iter=500,\n",
    "                random_state=42\n",
    "            )\n",
    "            model.fit(X_train, y_train)\n",
    "            acc = accuracy_score(y_test, model.predict(X_test))\n",
    "            results.append(-acc)\n",
    "        except:\n",
    "            results.append(1.0)\n",
    "\n",
    "    if len(llm_accuracy_history) % 5 == 0 and len(llm_accuracy_history) > 0:\n",
    "        best_indices = np.argsort(results)[:3]\n",
    "        history = [f\"{list(swarm[i])} => {-results[i]:.4f}\" for i in best_indices]\n",
    "        new_particles = query_gpt_for_particles(history, num_particles=3)\n",
    "        for i, new_p in zip(best_indices, new_particles):\n",
    "            swarm[i] = [\n",
    "                new_p['hidden'], new_p['lr'], new_p['alpha'], new_p['activation'], new_p['solver']\n",
    "            ]\n",
    "\n",
    "    best_acc = -min(results)\n",
    "    llm_accuracy_history.append(best_acc)\n",
    "    llm_best_so_far_history.append(max(best_acc, llm_best_so_far_history[-1]) if llm_best_so_far_history else best_acc)\n",
    "    return np.array(results)"
   ]
  },
  {
   "cell_type": "code",
   "execution_count": 17,
   "id": "b49ff0e7-579c-4f52-9386-b8247468a633",
   "metadata": {},
   "outputs": [
    {
     "name": "stderr",
     "output_type": "stream",
     "text": [
      "2025-04-13 11:09:57,292 - pyswarms.single.global_best - INFO - Optimize for 30 iters with {'c1': 1.5, 'c2': 1.5, 'w': 0.5}\n"
     ]
    },
    {
     "name": "stdout",
     "output_type": "stream",
     "text": [
      "Running baseline PSO...\n"
     ]
    },
    {
     "name": "stderr",
     "output_type": "stream",
     "text": [
      "pyswarms.single.global_best:   0%|          |0/30C:\\ProgramData\\anaconda3\\Lib\\site-packages\\sklearn\\utils\\extmath.py:205: RuntimeWarning: overflow encountered in matmul\n",
      "  ret = a @ b\n",
      "C:\\ProgramData\\anaconda3\\Lib\\site-packages\\sklearn\\neural_network\\_base.py:64: RuntimeWarning: overflow encountered in subtract\n",
      "  tmp = X - X.max(axis=1)[:, np.newaxis]\n",
      "C:\\ProgramData\\anaconda3\\Lib\\site-packages\\sklearn\\neural_network\\_base.py:64: RuntimeWarning: invalid value encountered in subtract\n",
      "  tmp = X - X.max(axis=1)[:, np.newaxis]\n",
      "C:\\ProgramData\\anaconda3\\Lib\\site-packages\\sklearn\\utils\\extmath.py:205: RuntimeWarning: overflow encountered in matmul\n",
      "  ret = a @ b\n",
      "C:\\ProgramData\\anaconda3\\Lib\\site-packages\\sklearn\\neural_network\\_base.py:64: RuntimeWarning: invalid value encountered in subtract\n",
      "  tmp = X - X.max(axis=1)[:, np.newaxis]\n",
      "pyswarms.single.global_best:   7%|▋         |2/30, best_cost=-0.911C:\\ProgramData\\anaconda3\\Lib\\site-packages\\sklearn\\utils\\extmath.py:205: RuntimeWarning: overflow encountered in matmul\n",
      "  ret = a @ b\n",
      "C:\\ProgramData\\anaconda3\\Lib\\site-packages\\sklearn\\neural_network\\_base.py:64: RuntimeWarning: overflow encountered in subtract\n",
      "  tmp = X - X.max(axis=1)[:, np.newaxis]\n",
      "C:\\ProgramData\\anaconda3\\Lib\\site-packages\\sklearn\\neural_network\\_multilayer_perceptron.py:337: RuntimeWarning: overflow encountered in scalar add\n",
      "  values += np.dot(s, s)\n",
      "C:\\ProgramData\\anaconda3\\Lib\\site-packages\\sklearn\\utils\\extmath.py:205: RuntimeWarning: invalid value encountered in matmul\n",
      "  ret = a @ b\n",
      "pyswarms.single.global_best:  80%|████████  |24/30, best_cost=-0.918C:\\ProgramData\\anaconda3\\Lib\\site-packages\\sklearn\\utils\\extmath.py:205: RuntimeWarning: overflow encountered in matmul\n",
      "  ret = a @ b\n",
      "C:\\ProgramData\\anaconda3\\Lib\\site-packages\\sklearn\\neural_network\\_base.py:64: RuntimeWarning: invalid value encountered in subtract\n",
      "  tmp = X - X.max(axis=1)[:, np.newaxis]\n",
      "pyswarms.single.global_best: 100%|██████████|30/30, best_cost=-0.918\n",
      "2025-04-13 11:14:31,861 - pyswarms.single.global_best - INFO - Optimization finished | best cost: -0.9184952978056427, best pos: [1.06338248e+02 7.29331851e-01 3.97234483e-01 1.09291662e+00\n",
      " 6.13235911e-02]\n"
     ]
    },
    {
     "data": {
      "text/plain": [
       "(-0.9184952978056427,\n",
       " array([1.06338248e+02, 7.29331851e-01, 3.97234483e-01, 1.09291662e+00,\n",
       "        6.13235911e-02]))"
      ]
     },
     "execution_count": 17,
     "metadata": {},
     "output_type": "execute_result"
    }
   ],
   "source": [
    "# Section 5: Run both experiments\n",
    "print(\"Running baseline PSO...\")\n",
    "accuracy_history, best_so_far_history = [], []\n",
    "optimizer = GlobalBestPSO(n_particles=15, dimensions=5, options={'c1': 1.5, 'c2': 1.5, 'w': 0.5}, bounds=bounds)\n",
    "optimizer.optimize(objective_mlp, iters=30)"
   ]
  },
  {
   "cell_type": "code",
   "execution_count": 18,
   "id": "416e67a1-acc1-4b89-86fa-9a0594c9b1e8",
   "metadata": {},
   "outputs": [
    {
     "name": "stderr",
     "output_type": "stream",
     "text": [
      "2025-04-13 11:14:31,869 - pyswarms.single.global_best - INFO - Optimize for 30 iters with {'c1': 1.5, 'c2': 1.5, 'w': 0.5}\n"
     ]
    },
    {
     "name": "stdout",
     "output_type": "stream",
     "text": [
      "Running PSO + GPT...\n"
     ]
    },
    {
     "name": "stderr",
     "output_type": "stream",
     "text": [
      "pyswarms.single.global_best:   7%|▋         |2/30, best_cost=-0.904C:\\ProgramData\\anaconda3\\Lib\\site-packages\\sklearn\\utils\\extmath.py:205: RuntimeWarning: overflow encountered in matmul\n",
      "  ret = a @ b\n",
      "C:\\ProgramData\\anaconda3\\Lib\\site-packages\\sklearn\\neural_network\\_base.py:64: RuntimeWarning: invalid value encountered in subtract\n",
      "  tmp = X - X.max(axis=1)[:, np.newaxis]\n",
      "pyswarms.single.global_best:  17%|█▋        |5/30, best_cost=-0.9172025-04-13 11:15:03,086 - httpx - INFO - HTTP Request: POST https://api.openai.com/v1/chat/completions \"HTTP/1.1 200 OK\"\n",
      "pyswarms.single.global_best:  20%|██        |6/30, best_cost=-0.917"
     ]
    },
    {
     "name": "stdout",
     "output_type": "stream",
     "text": [
      "=== GPT Prompt === \n",
      "You are optimizing MLP hyperparameters.\n",
      "Here are past top configurations:\n",
      "['[41.96915361449964, 0.23980329123351365, 0.5730181333432354, 1.3819838887399043, 1.2406255075694808] => 0.9122', '[115.44662878563284, 0.037596648706462496, 0.39924258360429166, 1.39228516791783, 1.4399762051800917] => 0.9091', '[81.23237484586772, 0.38359651654815985, 0.18557972213809903, 1.3400784478276662, 1.275210794358003] => 0.9075']\n",
      "\n",
      "Now return ONLY a JSON list with 3 new configurations like:\n",
      "[{\"hidden\": int, \"lr\": float, \"alpha\": float, \"activation\": int, \"solver\": int}]\n",
      "\n",
      "Only output the list. Do not add any explanation.\n",
      "\n",
      "=== GPT Response === ```json\n",
      "[\n",
      "    {\"hidden\": 90, \"lr\": 0.250, \"alpha\": 0.400, \"activation\": 1.35, \"solver\": 1.30},\n",
      "    {\"hidden\": 60, \"lr\": 0.180, \"alpha\": 0.550, \"activation\": 1.38, \"solver\": 1.25},\n",
      "    {\"hidden\": 100, \"lr\": 0.300, \"alpha\": 0.200, \"activation\": 1.32, \"solver\": 1.40}\n",
      "]\n",
      "```\n"
     ]
    },
    {
     "name": "stderr",
     "output_type": "stream",
     "text": [
      "pyswarms.single.global_best:  33%|███▎      |10/30, best_cost=-0.917C:\\ProgramData\\anaconda3\\Lib\\site-packages\\sklearn\\utils\\extmath.py:205: RuntimeWarning: overflow encountered in matmul\n",
      "  ret = a @ b\n",
      "C:\\ProgramData\\anaconda3\\Lib\\site-packages\\sklearn\\neural_network\\_base.py:64: RuntimeWarning: invalid value encountered in subtract\n",
      "  tmp = X - X.max(axis=1)[:, np.newaxis]\n",
      "2025-04-13 11:15:22,417 - httpx - INFO - HTTP Request: POST https://api.openai.com/v1/chat/completions \"HTTP/1.1 200 OK\"\n",
      "pyswarms.single.global_best:  37%|███▋      |11/30, best_cost=-0.917"
     ]
    },
    {
     "name": "stdout",
     "output_type": "stream",
     "text": [
      "=== GPT Prompt === \n",
      "You are optimizing MLP hyperparameters.\n",
      "Here are past top configurations:\n",
      "['[35.05039345975559, 0.1722491888318078, 0.4598103977084378, 1.3999179183402004, 1.2888098717247232] => 0.9154', '[55.42379952575096, 0.25936445264171115, 0.05983010771866966, 1.3728524828029982, 1.3636841640665072] => 0.9044', '[195.4695679322631, 0.05761423372188101, 0.559010869009598, 1.496239910780244, 1.202043019202046] => 0.8997']\n",
      "\n",
      "Now return ONLY a JSON list with 3 new configurations like:\n",
      "[{\"hidden\": int, \"lr\": float, \"alpha\": float, \"activation\": int, \"solver\": int}]\n",
      "\n",
      "Only output the list. Do not add any explanation.\n",
      "\n",
      "=== GPT Response === ```json\n",
      "[\n",
      "    {\"hidden\": 78, \"lr\": 0.185, \"alpha\": 0.478, \"activation\": 1.42, \"solver\": 1.3},\n",
      "    {\"hidden\": 40, \"lr\": 0.150, \"alpha\": 0.075, \"activation\": 1.35, \"solver\": 1.4},\n",
      "    {\"hidden\": 210, \"lr\": 0.065, \"alpha\": 0.520, \"activation\": 1.50, \"solver\": 1.25}\n",
      "]\n",
      "```\n"
     ]
    },
    {
     "name": "stderr",
     "output_type": "stream",
     "text": [
      "pyswarms.single.global_best:  50%|█████     |15/30, best_cost=-0.9222025-04-13 11:15:40,147 - httpx - INFO - HTTP Request: POST https://api.openai.com/v1/chat/completions \"HTTP/1.1 200 OK\"\n",
      "pyswarms.single.global_best:  53%|█████▎    |16/30, best_cost=-0.922"
     ]
    },
    {
     "name": "stdout",
     "output_type": "stream",
     "text": [
      "=== GPT Prompt === \n",
      "You are optimizing MLP hyperparameters.\n",
      "Here are past top configurations:\n",
      "['[31.966543849066912, 0.26363668219024494, 0.43802956074233435, 1.260654713243397, 1.2505223651283015] => 0.9107', '[120.05327202644165, 0.25501259431168205, 0.34955302018647005, 1.340355457662463, 1.2366179138735804] => 0.9107', '[43.959140145194425, 0.2191181540447991, 0.4607770104879408, 1.4704398180126181, 1.2774431559373078] => 0.9075']\n",
      "\n",
      "Now return ONLY a JSON list with 3 new configurations like:\n",
      "[{\"hidden\": int, \"lr\": float, \"alpha\": float, \"activation\": int, \"solver\": int}]\n",
      "\n",
      "Only output the list. Do not add any explanation.\n",
      "\n",
      "=== GPT Response === ```json\n",
      "[\n",
      "    {\"hidden\": 50, \"lr\": 0.260, \"alpha\": 0.450, \"activation\": 1, \"solver\": 1},\n",
      "    {\"hidden\": 110, \"lr\": 0.240, \"alpha\": 0.360, \"activation\": 1, \"solver\": 1},\n",
      "    {\"hidden\": 40, \"lr\": 0.230, \"alpha\": 0.470, \"activation\": 1, \"solver\": 1}\n",
      "]\n",
      "```\n"
     ]
    },
    {
     "name": "stderr",
     "output_type": "stream",
     "text": [
      "pyswarms.single.global_best:  67%|██████▋   |20/30, best_cost=-0.9222025-04-13 11:15:58,375 - httpx - INFO - HTTP Request: POST https://api.openai.com/v1/chat/completions \"HTTP/1.1 200 OK\"\n",
      "pyswarms.single.global_best:  70%|███████   |21/30, best_cost=-0.922"
     ]
    },
    {
     "name": "stdout",
     "output_type": "stream",
     "text": [
      "=== GPT Prompt === \n",
      "You are optimizing MLP hyperparameters.\n",
      "Here are past top configurations:\n",
      "['[46.4863508879269, 0.2073130826976165, 0.4311690548058144, 1.2450155840745452, 1.048699258077586] => 0.9044', '[158.86211019309516, 0.25259324472341854, 0.48577240754202483, 1.4483672702098827, 1.2697998161000703] => 0.8950', '[68.09200026811916, 0.21156235205458684, 0.6675958858835278, 1.3370374315533768, 1.3219424908070823] => 0.8918']\n",
      "\n",
      "Now return ONLY a JSON list with 3 new configurations like:\n",
      "[{\"hidden\": int, \"lr\": float, \"alpha\": float, \"activation\": int, \"solver\": int}]\n",
      "\n",
      "Only output the list. Do not add any explanation.\n",
      "\n",
      "=== GPT Response === ```json\n",
      "[\n",
      "    {\"hidden\": 120, \"lr\": 0.215, \"alpha\": 0.550, \"activation\": 1.370, \"solver\": 1.150},\n",
      "    {\"hidden\": 90, \"lr\": 0.230, \"alpha\": 0.600, \"activation\": 1.300, \"solver\": 1.200},\n",
      "    {\"hidden\": 140, \"lr\": 0.240, \"alpha\": 0.520, \"activation\": 1.400, \"solver\": 1.250}\n",
      "]\n",
      "```\n"
     ]
    },
    {
     "name": "stderr",
     "output_type": "stream",
     "text": [
      "pyswarms.single.global_best:  83%|████████▎ |25/30, best_cost=-0.9222025-04-13 11:16:13,743 - httpx - INFO - HTTP Request: POST https://api.openai.com/v1/chat/completions \"HTTP/1.1 200 OK\"\n",
      "pyswarms.single.global_best:  87%|████████▋ |26/30, best_cost=-0.922"
     ]
    },
    {
     "name": "stdout",
     "output_type": "stream",
     "text": [
      "=== GPT Prompt === \n",
      "You are optimizing MLP hyperparameters.\n",
      "Here are past top configurations:\n",
      "['[51.59162143631454, 0.2738333575157579, 0.3047465814112051, 1.3149952054850307, 1.3021829363597626] => 0.9107', '[107.48736185183841, 0.25544429810000757, 0.3959080704747594, 1.2999029648464766, 1.2189937512377818] => 0.9075', '[33.84372191080154, 0.2565478421571622, 0.3353866381822446, 1.2788909952471228, 1.239071328579799] => 0.8997']\n",
      "\n",
      "Now return ONLY a JSON list with 3 new configurations like:\n",
      "[{\"hidden\": int, \"lr\": float, \"alpha\": float, \"activation\": int, \"solver\": int}]\n",
      "\n",
      "Only output the list. Do not add any explanation.\n",
      "\n",
      "=== GPT Response === ```json\n",
      "[{\"hidden\": 60, \"lr\": 0.270, \"alpha\": 0.310, \"activation\": 1.310, \"solver\": 1.290}, {\"hidden\": 110, \"lr\": 0.260, \"alpha\": 0.400, \"activation\": 1.300, \"solver\": 1.220}, {\"hidden\": 40, \"lr\": 0.260, \"alpha\": 0.340, \"activation\": 1.280, \"solver\": 1.240}]\n",
      "```\n"
     ]
    },
    {
     "name": "stderr",
     "output_type": "stream",
     "text": [
      "pyswarms.single.global_best: 100%|██████████|30/30, best_cost=-0.923\n",
      "2025-04-13 11:16:25,194 - pyswarms.single.global_best - INFO - Optimization finished | best cost: -0.9231974921630094, best pos: [34.7739446   0.253447    0.44394804  1.26144548  1.25813783]\n"
     ]
    },
    {
     "data": {
      "text/plain": [
       "(-0.9231974921630094,\n",
       " array([34.7739446 ,  0.253447  ,  0.44394804,  1.26144548,  1.25813783]))"
      ]
     },
     "execution_count": 18,
     "metadata": {},
     "output_type": "execute_result"
    }
   ],
   "source": [
    "print(\"Running PSO + GPT...\")\n",
    "llm_accuracy_history, llm_best_so_far_history = [], []\n",
    "optimizer = GlobalBestPSO(n_particles=15, dimensions=5, options={'c1': 1.5, 'c2': 1.5, 'w': 0.5}, bounds=bounds)\n",
    "optimizer.optimize(objective_mlp_with_llm, iters=30)"
   ]
  },
  {
   "cell_type": "code",
   "execution_count": 19,
   "id": "a1ebdfc6-b28c-47d4-8b93-34acfcb9084c",
   "metadata": {},
   "outputs": [
    {
     "data": {
      "image/png": "[encoded data removed]",
      "text/plain": [
       "<Figure size 1000x500 with 1 Axes>"
      ]
     },
     "metadata": {},
     "output_type": "display_data"
    }
   ],
   "source": [
    "# Section 6: Visualization\n",
    "plt.figure(figsize=(10, 5))\n",
    "plt.plot(best_so_far_history, label=\"PSO Only\", linestyle='--', marker='o')\n",
    "plt.plot(llm_best_so_far_history, label=\"PSO + GPT\", marker='s')\n",
    "plt.title(\"Cumulative Best Accuracy: PSO vs. PSO+LLM\")\n",
    "plt.xlabel(\"Iteration\")\n",
    "plt.ylabel(\"Accuracy\")\n",
    "plt.grid(True)\n",
    "plt.legend()\n",
    "plt.tight_layout()\n",
    "plt.show()\n"
   ]
  },
  {
   "cell_type": "code",
   "execution_count": null,
   "id": "d69c77ca-c459-4f91-b189-2400972a3877",
   "metadata": {},
   "outputs": [],
   "source": []
  },
  {
   "cell_type": "code",
   "execution_count": null,
   "id": "7afea75b-bfd2-4bcf-9fec-0be8c1dbe670",
   "metadata": {},
   "outputs": [],
   "source": []
  }
 ],
 "metadata": {
  "kernelspec": {
   "display_name": "Python 3 (ipykernel)",
   "language": "python",
   "name": "python3"
  },
  "language_info": {
   "codemirror_mode": {
    "name": "ipython",
    "version": 3
   },
   "file_extension": ".py",
   "mimetype": "text/x-python",
   "name": "python",
   "nbconvert_exporter": "python",
   "pygments_lexer": "ipython3",
   "version": "3.11.5"
  }
 },
 "nbformat": 4,
 "nbformat_minor": 5
}
