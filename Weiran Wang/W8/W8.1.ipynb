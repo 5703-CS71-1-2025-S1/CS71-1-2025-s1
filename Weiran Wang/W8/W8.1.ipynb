{
 "cells": [
  {
   "cell_type": "code",
   "execution_count": 19,
   "id": "101450e7-9075-425b-9261-244432fe08ba",
   "metadata": {},
   "outputs": [
    {
     "name": "stdout",
     "output_type": "stream",
     "text": [
      "The autoreload extension is already loaded. To reload it, use:\n",
      "  %reload_ext autoreload\n"
     ]
    }
   ],
   "source": [
    "%load_ext autoreload\n",
    "%autoreload 2\n"
   ]
  },
  {
   "cell_type": "code",
   "execution_count": 20,
   "id": "921622bb-b19b-4b55-89f3-3478def97eb2",
   "metadata": {},
   "outputs": [
    {
     "name": "stdout",
     "output_type": "stream",
     "text": [
      "Train shape: (18000, 23)\n",
      "Validation shape: (6000, 23)\n",
      "Test shape: (6000, 23)\n",
      "Train default rate: 0.2212222222222222\n",
      "Val default rate: 0.22116666666666668\n",
      "Test default rate: 0.22116666666666668\n"
     ]
    }
   ],
   "source": [
    "from data_loader import load_credit_data\n",
    "\n",
    "# 加载数据\n",
    "(X_train, y_train), (X_val, y_val), (X_test, y_test), scaler = load_credit_data()\n",
    "\n",
    "# 查看数据维度\n",
    "print(f\"Train shape: {X_train.shape}\")\n",
    "print(f\"Validation shape: {X_val.shape}\")\n",
    "print(f\"Test shape: {X_test.shape}\")\n",
    "\n",
    "import numpy as np\n",
    "print(\"Train default rate:\", np.mean(y_train))\n",
    "print(\"Val default rate:\", np.mean(y_val))\n",
    "print(\"Test default rate:\", np.mean(y_test))\n"
   ]
  },
  {
   "cell_type": "code",
   "execution_count": 21,
   "id": "c05930de-fb4b-49ca-b677-90eebd05adf6",
   "metadata": {},
   "outputs": [
    {
     "name": "stdout",
     "output_type": "stream",
     "text": [
      "Epoch 1/20, Loss: 0.6435\n",
      "Epoch 2/20, Loss: 0.8078\n",
      "Epoch 3/20, Loss: 0.5156\n",
      "Epoch 4/20, Loss: 0.6348\n",
      "Epoch 5/20, Loss: 0.6694\n",
      "Epoch 6/20, Loss: 0.3618\n",
      "Epoch 7/20, Loss: 0.4297\n",
      "Epoch 8/20, Loss: 0.2752\n",
      "Epoch 9/20, Loss: 0.4586\n",
      "Epoch 10/20, Loss: 0.3679\n",
      "Epoch 11/20, Loss: 0.6660\n",
      "Epoch 12/20, Loss: 0.4382\n",
      "Epoch 13/20, Loss: 0.3566\n",
      "Epoch 14/20, Loss: 0.3038\n",
      "Epoch 15/20, Loss: 0.5897\n",
      "Epoch 16/20, Loss: 0.1825\n",
      "Epoch 17/20, Loss: 0.8178\n",
      "Epoch 18/20, Loss: 0.3515\n",
      "Epoch 19/20, Loss: 0.2695\n",
      "Epoch 20/20, Loss: 0.2743\n",
      "Validation AUC: 0.7580\n"
     ]
    }
   ],
   "source": [
    "from executor import train_and_evaluate\n",
    "from data_loader import load_credit_data\n",
    "\n",
    "# 加载数据\n",
    "(X_train, y_train), (X_val, y_val), (X_test, y_test), _ = load_credit_data()\n",
    "\n",
    "# 训练并返回验证AUC\n",
    "auc, preds = train_and_evaluate(\n",
    "    X_train, y_train, X_val, y_val,\n",
    "    hidden_dim=64, lr=0.001, dropout=0.3, l2=1e-4,\n",
    "    batch_size=64, num_epochs=20, verbose=True\n",
    ")\n",
    "\n",
    "print(f\"Validation AUC: {auc:.4f}\")\n"
   ]
  },
  {
   "cell_type": "code",
   "execution_count": 22,
   "id": "2df0f8f7-c9bb-4bbd-ae0f-9ecbc401baa0",
   "metadata": {},
   "outputs": [
    {
     "ename": "ValueError",
     "evalue": "Failed to parse GPT response. Content was:\n```json\n{\n    \"hidden_dim\": 64,\n    \"learning_rate_init\": 0.001,\n    \"dropout\": 0.4,\n    \"l2\": 0.0001,\n    \"batch_size\": 64\n}\n```",
     "output_type": "error",
     "traceback": [
      "\u001b[1;31m---------------------------------------------------------------------------\u001b[0m",
      "\u001b[1;31mJSONDecodeError\u001b[0m                           Traceback (most recent call last)",
      "File \u001b[1;32m~\\Desktop\\5703\\W8\\creator.py:36\u001b[0m, in \u001b[0;36mask_gpt_for_params\u001b[1;34m(prompt)\u001b[0m\n\u001b[0;32m     34\u001b[0m \u001b[38;5;28;01mtry\u001b[39;00m:\n\u001b[1;32m---> 36\u001b[0m     result \u001b[38;5;241m=\u001b[39m json\u001b[38;5;241m.\u001b[39mloads(reply)\n\u001b[0;32m     37\u001b[0m     \u001b[38;5;28;01mreturn\u001b[39;00m result\n",
      "File \u001b[1;32mC:\\ProgramData\\anaconda3\\Lib\\json\\__init__.py:346\u001b[0m, in \u001b[0;36mloads\u001b[1;34m(s, cls, object_hook, parse_float, parse_int, parse_constant, object_pairs_hook, **kw)\u001b[0m\n\u001b[0;32m    343\u001b[0m \u001b[38;5;28;01mif\u001b[39;00m (\u001b[38;5;28mcls\u001b[39m \u001b[38;5;129;01mis\u001b[39;00m \u001b[38;5;28;01mNone\u001b[39;00m \u001b[38;5;129;01mand\u001b[39;00m object_hook \u001b[38;5;129;01mis\u001b[39;00m \u001b[38;5;28;01mNone\u001b[39;00m \u001b[38;5;129;01mand\u001b[39;00m\n\u001b[0;32m    344\u001b[0m         parse_int \u001b[38;5;129;01mis\u001b[39;00m \u001b[38;5;28;01mNone\u001b[39;00m \u001b[38;5;129;01mand\u001b[39;00m parse_float \u001b[38;5;129;01mis\u001b[39;00m \u001b[38;5;28;01mNone\u001b[39;00m \u001b[38;5;129;01mand\u001b[39;00m\n\u001b[0;32m    345\u001b[0m         parse_constant \u001b[38;5;129;01mis\u001b[39;00m \u001b[38;5;28;01mNone\u001b[39;00m \u001b[38;5;129;01mand\u001b[39;00m object_pairs_hook \u001b[38;5;129;01mis\u001b[39;00m \u001b[38;5;28;01mNone\u001b[39;00m \u001b[38;5;129;01mand\u001b[39;00m \u001b[38;5;129;01mnot\u001b[39;00m kw):\n\u001b[1;32m--> 346\u001b[0m     \u001b[38;5;28;01mreturn\u001b[39;00m _default_decoder\u001b[38;5;241m.\u001b[39mdecode(s)\n\u001b[0;32m    347\u001b[0m \u001b[38;5;28;01mif\u001b[39;00m \u001b[38;5;28mcls\u001b[39m \u001b[38;5;129;01mis\u001b[39;00m \u001b[38;5;28;01mNone\u001b[39;00m:\n",
      "File \u001b[1;32mC:\\ProgramData\\anaconda3\\Lib\\json\\decoder.py:337\u001b[0m, in \u001b[0;36mJSONDecoder.decode\u001b[1;34m(self, s, _w)\u001b[0m\n\u001b[0;32m    333\u001b[0m \u001b[38;5;250m\u001b[39m\u001b[38;5;124;03m\"\"\"Return the Python representation of ``s`` (a ``str`` instance\u001b[39;00m\n\u001b[0;32m    334\u001b[0m \u001b[38;5;124;03mcontaining a JSON document).\u001b[39;00m\n\u001b[0;32m    335\u001b[0m \n\u001b[0;32m    336\u001b[0m \u001b[38;5;124;03m\"\"\"\u001b[39;00m\n\u001b[1;32m--> 337\u001b[0m obj, end \u001b[38;5;241m=\u001b[39m \u001b[38;5;28mself\u001b[39m\u001b[38;5;241m.\u001b[39mraw_decode(s, idx\u001b[38;5;241m=\u001b[39m_w(s, \u001b[38;5;241m0\u001b[39m)\u001b[38;5;241m.\u001b[39mend())\n\u001b[0;32m    338\u001b[0m end \u001b[38;5;241m=\u001b[39m _w(s, end)\u001b[38;5;241m.\u001b[39mend()\n",
      "File \u001b[1;32mC:\\ProgramData\\anaconda3\\Lib\\json\\decoder.py:355\u001b[0m, in \u001b[0;36mJSONDecoder.raw_decode\u001b[1;34m(self, s, idx)\u001b[0m\n\u001b[0;32m    354\u001b[0m \u001b[38;5;28;01mexcept\u001b[39;00m \u001b[38;5;167;01mStopIteration\u001b[39;00m \u001b[38;5;28;01mas\u001b[39;00m err:\n\u001b[1;32m--> 355\u001b[0m     \u001b[38;5;28;01mraise\u001b[39;00m JSONDecodeError(\u001b[38;5;124m\"\u001b[39m\u001b[38;5;124mExpecting value\u001b[39m\u001b[38;5;124m\"\u001b[39m, s, err\u001b[38;5;241m.\u001b[39mvalue) \u001b[38;5;28;01mfrom\u001b[39;00m \u001b[38;5;28;01mNone\u001b[39;00m\n\u001b[0;32m    356\u001b[0m \u001b[38;5;28;01mreturn\u001b[39;00m obj, end\n",
      "\u001b[1;31mJSONDecodeError\u001b[0m: Expecting value: line 1 column 1 (char 0)",
      "\nDuring handling of the above exception, another exception occurred:\n",
      "\u001b[1;31mValueError\u001b[0m                                Traceback (most recent call last)",
      "Cell \u001b[1;32mIn[22], line 9\u001b[0m\n\u001b[0;32m      3\u001b[0m history \u001b[38;5;241m=\u001b[39m [\n\u001b[0;32m      4\u001b[0m     {\u001b[38;5;124m\"\u001b[39m\u001b[38;5;124mauc\u001b[39m\u001b[38;5;124m\"\u001b[39m: \u001b[38;5;241m0.7412\u001b[39m, \u001b[38;5;124m\"\u001b[39m\u001b[38;5;124mparams\u001b[39m\u001b[38;5;124m\"\u001b[39m: {\u001b[38;5;124m\"\u001b[39m\u001b[38;5;124mhidden_dim\u001b[39m\u001b[38;5;124m\"\u001b[39m: \u001b[38;5;241m64\u001b[39m, \u001b[38;5;124m\"\u001b[39m\u001b[38;5;124mlearning_rate_init\u001b[39m\u001b[38;5;124m\"\u001b[39m: \u001b[38;5;241m0.001\u001b[39m, \u001b[38;5;124m\"\u001b[39m\u001b[38;5;124mdropout\u001b[39m\u001b[38;5;124m\"\u001b[39m: \u001b[38;5;241m0.2\u001b[39m, \u001b[38;5;124m\"\u001b[39m\u001b[38;5;124ml2\u001b[39m\u001b[38;5;124m\"\u001b[39m: \u001b[38;5;241m1e-4\u001b[39m, \u001b[38;5;124m\"\u001b[39m\u001b[38;5;124mbatch_size\u001b[39m\u001b[38;5;124m\"\u001b[39m: \u001b[38;5;241m64\u001b[39m}},\n\u001b[0;32m      5\u001b[0m     {\u001b[38;5;124m\"\u001b[39m\u001b[38;5;124mauc\u001b[39m\u001b[38;5;124m\"\u001b[39m: \u001b[38;5;241m0.7550\u001b[39m, \u001b[38;5;124m\"\u001b[39m\u001b[38;5;124mparams\u001b[39m\u001b[38;5;124m\"\u001b[39m: {\u001b[38;5;124m\"\u001b[39m\u001b[38;5;124mhidden_dim\u001b[39m\u001b[38;5;124m\"\u001b[39m: \u001b[38;5;241m64\u001b[39m, \u001b[38;5;124m\"\u001b[39m\u001b[38;5;124mlearning_rate_init\u001b[39m\u001b[38;5;124m\"\u001b[39m: \u001b[38;5;241m0.001\u001b[39m, \u001b[38;5;124m\"\u001b[39m\u001b[38;5;124mdropout\u001b[39m\u001b[38;5;124m\"\u001b[39m: \u001b[38;5;241m0.3\u001b[39m, \u001b[38;5;124m\"\u001b[39m\u001b[38;5;124ml2\u001b[39m\u001b[38;5;124m\"\u001b[39m: \u001b[38;5;241m1e-4\u001b[39m, \u001b[38;5;124m\"\u001b[39m\u001b[38;5;124mbatch_size\u001b[39m\u001b[38;5;124m\"\u001b[39m: \u001b[38;5;241m64\u001b[39m}}\n\u001b[0;32m      6\u001b[0m ]\n\u001b[0;32m      8\u001b[0m prompt \u001b[38;5;241m=\u001b[39m build_prompt(history)\n\u001b[1;32m----> 9\u001b[0m suggestion \u001b[38;5;241m=\u001b[39m ask_gpt_for_params(prompt)\n\u001b[0;32m     10\u001b[0m \u001b[38;5;28mprint\u001b[39m(suggestion)\n",
      "File \u001b[1;32m~\\Desktop\\5703\\W8\\creator.py:39\u001b[0m, in \u001b[0;36mask_gpt_for_params\u001b[1;34m(prompt)\u001b[0m\n\u001b[0;32m     36\u001b[0m     \u001b[38;5;28;01mexcept\u001b[39;00m:\n\u001b[0;32m     37\u001b[0m         \u001b[38;5;28;01mraise\u001b[39;00m \u001b[38;5;167;01mValueError\u001b[39;00m(\u001b[38;5;124m\"\u001b[39m\u001b[38;5;124mFailed to parse GPT response. Content was:\u001b[39m\u001b[38;5;130;01m\\n\u001b[39;00m\u001b[38;5;124m\"\u001b[39m \u001b[38;5;241m+\u001b[39m reply)\n\u001b[1;32m---> 39\u001b[0m \u001b[38;5;28;01mif\u001b[39;00m \u001b[38;5;18m__name__\u001b[39m \u001b[38;5;241m==\u001b[39m \u001b[38;5;124m\"\u001b[39m\u001b[38;5;124m__main__\u001b[39m\u001b[38;5;124m\"\u001b[39m:\n\u001b[0;32m     40\u001b[0m     \u001b[38;5;66;03m# Example\u001b[39;00m\n\u001b[0;32m     41\u001b[0m     history \u001b[38;5;241m=\u001b[39m [\n\u001b[0;32m     42\u001b[0m         {\u001b[38;5;124m\"\u001b[39m\u001b[38;5;124mauc\u001b[39m\u001b[38;5;124m\"\u001b[39m: \u001b[38;5;241m0.7412\u001b[39m, \u001b[38;5;124m\"\u001b[39m\u001b[38;5;124mparams\u001b[39m\u001b[38;5;124m\"\u001b[39m: {\u001b[38;5;124m\"\u001b[39m\u001b[38;5;124mhidden_dim\u001b[39m\u001b[38;5;124m\"\u001b[39m: \u001b[38;5;241m64\u001b[39m, \u001b[38;5;124m\"\u001b[39m\u001b[38;5;124mlearning_rate_init\u001b[39m\u001b[38;5;124m\"\u001b[39m: \u001b[38;5;241m0.001\u001b[39m, \u001b[38;5;124m\"\u001b[39m\u001b[38;5;124mdropout\u001b[39m\u001b[38;5;124m\"\u001b[39m: \u001b[38;5;241m0.2\u001b[39m, \u001b[38;5;124m\"\u001b[39m\u001b[38;5;124ml2\u001b[39m\u001b[38;5;124m\"\u001b[39m: \u001b[38;5;241m1e-4\u001b[39m, \u001b[38;5;124m\"\u001b[39m\u001b[38;5;124mbatch_size\u001b[39m\u001b[38;5;124m\"\u001b[39m: \u001b[38;5;241m64\u001b[39m}},\n\u001b[0;32m     43\u001b[0m         {\u001b[38;5;124m\"\u001b[39m\u001b[38;5;124mauc\u001b[39m\u001b[38;5;124m\"\u001b[39m: \u001b[38;5;241m0.7550\u001b[39m, \u001b[38;5;124m\"\u001b[39m\u001b[38;5;124mparams\u001b[39m\u001b[38;5;124m\"\u001b[39m: {\u001b[38;5;124m\"\u001b[39m\u001b[38;5;124mhidden_dim\u001b[39m\u001b[38;5;124m\"\u001b[39m: \u001b[38;5;241m64\u001b[39m, \u001b[38;5;124m\"\u001b[39m\u001b[38;5;124mlearning_rate_init\u001b[39m\u001b[38;5;124m\"\u001b[39m: \u001b[38;5;241m0.001\u001b[39m, \u001b[38;5;124m\"\u001b[39m\u001b[38;5;124mdropout\u001b[39m\u001b[38;5;124m\"\u001b[39m: \u001b[38;5;241m0.3\u001b[39m, \u001b[38;5;124m\"\u001b[39m\u001b[38;5;124ml2\u001b[39m\u001b[38;5;124m\"\u001b[39m: \u001b[38;5;241m1e-4\u001b[39m, \u001b[38;5;124m\"\u001b[39m\u001b[38;5;124mbatch_size\u001b[39m\u001b[38;5;124m\"\u001b[39m: \u001b[38;5;241m64\u001b[39m}}\n\u001b[0;32m     44\u001b[0m     ]\n\u001b[0;32m     45\u001b[0m     prompt \u001b[38;5;241m=\u001b[39m build_prompt(history)\n",
      "\u001b[1;31mValueError\u001b[0m: Failed to parse GPT response. Content was:\n```json\n{\n    \"hidden_dim\": 64,\n    \"learning_rate_init\": 0.001,\n    \"dropout\": 0.4,\n    \"l2\": 0.0001,\n    \"batch_size\": 64\n}\n```"
     ]
    }
   ],
   "source": [
    "from creator import build_prompt, ask_gpt_for_params\n",
    "\n",
    "history = [\n",
    "    {\"auc\": 0.7412, \"params\": {\"hidden_dim\": 64, \"learning_rate_init\": 0.001, \"dropout\": 0.2, \"l2\": 1e-4, \"batch_size\": 64}},\n",
    "    {\"auc\": 0.7550, \"params\": {\"hidden_dim\": 64, \"learning_rate_init\": 0.001, \"dropout\": 0.3, \"l2\": 1e-4, \"batch_size\": 64}}\n",
    "]\n",
    "\n",
    "prompt = build_prompt(history)\n",
    "suggestion = ask_gpt_for_params(prompt)\n",
    "print(suggestion)\n"
   ]
  },
  {
   "cell_type": "code",
   "execution_count": null,
   "id": "f249b6b4-3f54-4def-9ea3-a59b5267eb92",
   "metadata": {},
   "outputs": [],
   "source": [
    "%run controller.py\n"
   ]
  },
  {
   "cell_type": "code",
   "execution_count": null,
   "id": "f87039fa-ae40-404f-872a-76782d72b2c2",
   "metadata": {},
   "outputs": [],
   "source": [
    "from visualization_utils import plot_auc_history\n",
    "plot_auc_history(\"experiment_history.json\", \"baseline_result.json\")\n",
    "\n"
   ]
  },
  {
   "cell_type": "code",
   "execution_count": null,
   "id": "f4af2f2d-da69-455d-a1db-d6ae1ec9955e",
   "metadata": {},
   "outputs": [],
   "source": []
  }
 ],
 "metadata": {
  "kernelspec": {
   "display_name": "Python 3 (ipykernel)",
   "language": "python",
   "name": "python3"
  },
  "language_info": {
   "codemirror_mode": {
    "name": "ipython",
    "version": 3
   },
   "file_extension": ".py",
   "mimetype": "text/x-python",
   "name": "python",
   "nbconvert_exporter": "python",
   "pygments_lexer": "ipython3",
   "version": "3.11.5"
  }
 },
 "nbformat": 4,
 "nbformat_minor": 5
}
